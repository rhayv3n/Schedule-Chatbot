{
 "cells": [
  {
   "cell_type": "markdown",
   "id": "546edcf2",
   "metadata": {},
   "source": [
    "# Mathematics Department RegEx Schedule Chatbot"
   ]
  },
  {
   "cell_type": "markdown",
   "id": "2eeeef4c",
   "metadata": {},
   "source": [
    "## Importing Data from the Mathematics Department"
   ]
  },
  {
   "cell_type": "code",
   "execution_count": 1,
   "id": "56c27a85",
   "metadata": {},
   "outputs": [],
   "source": [
    "import pandas as pd\n",
    "\n",
    "data = pd.read_csv(\"scheds.csv\")"
   ]
  },
  {
   "cell_type": "code",
   "execution_count": 2,
   "id": "b21a8598",
   "metadata": {
    "scrolled": true
   },
   "outputs": [
    {
     "data": {
      "text/html": [
       "<div>\n",
       "<style scoped>\n",
       "    .dataframe tbody tr th:only-of-type {\n",
       "        vertical-align: middle;\n",
       "    }\n",
       "\n",
       "    .dataframe tbody tr th {\n",
       "        vertical-align: top;\n",
       "    }\n",
       "\n",
       "    .dataframe thead th {\n",
       "        text-align: right;\n",
       "    }\n",
       "</style>\n",
       "<table border=\"1\" class=\"dataframe\">\n",
       "  <thead>\n",
       "    <tr style=\"text-align: right;\">\n",
       "      <th></th>\n",
       "      <th>first_name</th>\n",
       "      <th>last_name</th>\n",
       "      <th>Room</th>\n",
       "      <th>Section</th>\n",
       "      <th>Course</th>\n",
       "      <th>Day</th>\n",
       "      <th>Time</th>\n",
       "    </tr>\n",
       "  </thead>\n",
       "  <tbody>\n",
       "    <tr>\n",
       "      <th>0</th>\n",
       "      <td>Edgar</td>\n",
       "      <td>Adina</td>\n",
       "      <td>W413</td>\n",
       "      <td>A37</td>\n",
       "      <td>DS195-1</td>\n",
       "      <td>Monday</td>\n",
       "      <td>10:30 AM - 12:00 PM</td>\n",
       "    </tr>\n",
       "    <tr>\n",
       "      <th>1</th>\n",
       "      <td>Edgar</td>\n",
       "      <td>Adina</td>\n",
       "      <td>W411</td>\n",
       "      <td>A37</td>\n",
       "      <td>DS168</td>\n",
       "      <td>Monday</td>\n",
       "      <td>4:30 PM - 6:00 PM</td>\n",
       "    </tr>\n",
       "    <tr>\n",
       "      <th>2</th>\n",
       "      <td>Edgar</td>\n",
       "      <td>Adina</td>\n",
       "      <td>S407</td>\n",
       "      <td>E01</td>\n",
       "      <td>CE50P-2</td>\n",
       "      <td>Tuesday</td>\n",
       "      <td>12:00 PM - 1:30 PM</td>\n",
       "    </tr>\n",
       "    <tr>\n",
       "      <th>3</th>\n",
       "      <td>Edgar</td>\n",
       "      <td>Adina</td>\n",
       "      <td>S407</td>\n",
       "      <td>E01</td>\n",
       "      <td>CE50P-2</td>\n",
       "      <td>Tuesday</td>\n",
       "      <td>1:30 PM - 3:00 PM</td>\n",
       "    </tr>\n",
       "    <tr>\n",
       "      <th>4</th>\n",
       "      <td>Edgar</td>\n",
       "      <td>Adina</td>\n",
       "      <td>SW400</td>\n",
       "      <td>A40</td>\n",
       "      <td>CEM118-2</td>\n",
       "      <td>Tuesday</td>\n",
       "      <td>3:00 PM - 4:30 PM</td>\n",
       "    </tr>\n",
       "  </tbody>\n",
       "</table>\n",
       "</div>"
      ],
      "text/plain": [
       "  first_name last_name   Room Section    Course      Day                 Time\n",
       "0      Edgar     Adina   W413     A37   DS195-1   Monday  10:30 AM - 12:00 PM\n",
       "1      Edgar     Adina   W411     A37     DS168   Monday    4:30 PM - 6:00 PM\n",
       "2      Edgar     Adina   S407     E01   CE50P-2  Tuesday   12:00 PM - 1:30 PM\n",
       "3      Edgar     Adina   S407     E01   CE50P-2  Tuesday    1:30 PM - 3:00 PM\n",
       "4      Edgar     Adina  SW400     A40  CEM118-2  Tuesday    3:00 PM - 4:30 PM"
      ]
     },
     "execution_count": 2,
     "metadata": {},
     "output_type": "execute_result"
    }
   ],
   "source": [
    "data.head()"
   ]
  },
  {
   "cell_type": "code",
   "execution_count": 3,
   "id": "816f41a1",
   "metadata": {},
   "outputs": [
    {
     "data": {
      "text/plain": [
       "array(['Edgar', 'Ronald', 'Juanito', 'Servando Jr.', 'Clarinda', 'Robert',\n",
       "       'Richard', 'Maria Rosario', 'Reynaldo', 'Renilda',\n",
       "       'Floro Deogracias', 'Francis Anthony', 'Dan Andrew', 'Agnes',\n",
       "       'Ma. Vivianne', 'Joseph', 'Hardy', 'Raquel', 'Gerardo',\n",
       "       'Maria Christina', 'Alberto', 'Teresita'], dtype=object)"
      ]
     },
     "execution_count": 3,
     "metadata": {},
     "output_type": "execute_result"
    }
   ],
   "source": [
    "data[\"first_name\"].unique()"
   ]
  },
  {
   "cell_type": "markdown",
   "id": "1aecbacb",
   "metadata": {},
   "source": [
    "## Detecting Parts of the Query\n",
    "We will first find the following parts of the query:\n",
    "- Professor's Name\n",
    "- Section\n",
    "- Course\n",
    "- Time"
   ]
  },
  {
   "cell_type": "code",
   "execution_count": 4,
   "id": "31b3dcbc",
   "metadata": {},
   "outputs": [],
   "source": [
    "import re\n",
    "\n",
    "regex_hints = {\n",
    "    \"section\": r\"\\b[A-ER][EFMNO]{0,2}[0-9]{1,2}\\-?Q?\",\n",
    "    \"course\": r\"[CDGMI][ACDEGHIMSTW]+[1-35]\\d{0,2}[\\-0-9CFLMP]*\",\n",
    "    \"room\": r\"\\b([EMNSW][BEMNOPSW]{0,2}[ 0-9]+[A-E]?)\\b\",\n",
    "    \"day\": r\"[F-Wf-w][A-Za-z]{2,}[Dd][Aa][Yy]\"\n",
    "}"
   ]
  },
  {
   "cell_type": "code",
   "execution_count": 5,
   "id": "55ecbe7e",
   "metadata": {},
   "outputs": [
    {
     "data": {
      "text/plain": [
       "{'section': 'A37'}"
      ]
     },
     "execution_count": 5,
     "metadata": {},
     "output_type": "execute_result"
    }
   ],
   "source": [
    "def find_section(query):\n",
    "    section_match = re.search(regex_hints[\"section\"], query.upper())\n",
    "    section_output = {}\n",
    "\n",
    "    if section_match is None:\n",
    "        section_output[\"section\"] = None\n",
    "    else:\n",
    "        section_output[\"section\"] = section_match.group(0)\n",
    "    \n",
    "    return section_output\n",
    "\n",
    "find_section(\"A37\")"
   ]
  },
  {
   "cell_type": "code",
   "execution_count": 6,
   "id": "7e57dd72",
   "metadata": {},
   "outputs": [
    {
     "data": {
      "text/plain": [
       "{'course': 'MATH147'}"
      ]
     },
     "execution_count": 6,
     "metadata": {},
     "output_type": "execute_result"
    }
   ],
   "source": [
    "def find_course(query):\n",
    "    course_match = re.search(regex_hints[\"course\"], query.upper())\n",
    "    course_output = {}\n",
    "\n",
    "    if course_match is None:\n",
    "        course_output[\"course\"] = None\n",
    "    else:\n",
    "        course_output[\"course\"] = course_match.group(0)\n",
    "    \n",
    "    return course_output\n",
    "\n",
    "find_course(\"MATH147\")"
   ]
  },
  {
   "cell_type": "code",
   "execution_count": 7,
   "id": "d3d479d1",
   "metadata": {},
   "outputs": [
    {
     "data": {
      "text/plain": [
       "{'professor': {'first_name': ['francis']}}"
      ]
     },
     "execution_count": 7,
     "metadata": {},
     "output_type": "execute_result"
    }
   ],
   "source": [
    "lower_prof_fns_raw = [ last_name.lower() for last_name in data[\"first_name\"].unique() ]\n",
    "# Separate first names of profs if profs have multiple first names\n",
    "lower_prof_fns_raw = [ first_name.split() for first_name in lower_prof_fns_raw ]\n",
    "lower_prof_fns = []\n",
    "\n",
    "for fns_raw in lower_prof_fns_raw:\n",
    "    for name in fns_raw:\n",
    "        lower_prof_fns.append(name)\n",
    "\n",
    "lower_prof_lns = [ last_name.lower() for last_name in data[\"last_name\"].unique() ]\n",
    "\n",
    "def find_prof(query):\n",
    "    lower_query = query.lower()\n",
    "    prof_output = { \"professor\": None }\n",
    "\n",
    "    found_last_name = [ lower_prof_ln for lower_prof_ln in lower_prof_lns if lower_query.find(lower_prof_ln) > -1 ]\n",
    "    if len(found_last_name) > 0:\n",
    "        prof_output[\"professor\"] = { \"last_name\": found_last_name }\n",
    "    \n",
    "    found_first_name = [ lower_prof_fn for lower_prof_fn in lower_prof_fns if lower_query.find(lower_prof_fn) > -1 ]\n",
    "    if len(found_first_name) > 0:\n",
    "        prof_output[\"professor\"] = { \"first_name\": found_first_name }\n",
    "\n",
    "    return prof_output\n",
    "\n",
    "find_prof(\"francis\")"
   ]
  },
  {
   "cell_type": "code",
   "execution_count": 8,
   "id": "552ff1f4",
   "metadata": {},
   "outputs": [
    {
     "data": {
      "text/plain": [
       "{'room': 'S309'}"
      ]
     },
     "execution_count": 8,
     "metadata": {},
     "output_type": "execute_result"
    }
   ],
   "source": [
    "def find_room(query):\n",
    "    room_match = re.search(regex_hints[\"room\"], query.upper())\n",
    "    room_output = {}\n",
    "\n",
    "    if room_match is None:\n",
    "        room_output[\"room\"] = None\n",
    "    else:\n",
    "        room_output[\"room\"] = room_match.group(0)\n",
    "        if len(room_output[\"room\"]) < 3:\n",
    "            room_output[\"room\"] = None\n",
    "    \n",
    "    return room_output\n",
    "\n",
    "find_room(\"S309\")"
   ]
  },
  {
   "cell_type": "code",
   "execution_count": 9,
   "id": "b62512f2",
   "metadata": {},
   "outputs": [
    {
     "data": {
      "text/plain": [
       "{'day': 'Wednesday'}"
      ]
     },
     "execution_count": 9,
     "metadata": {},
     "output_type": "execute_result"
    }
   ],
   "source": [
    "from datetime import datetime\n",
    "\n",
    "def find_day(query):\n",
    "    day_output = { \"day\": None }\n",
    "    \n",
    "    day_match = re.search(regex_hints[\"day\"], query)\n",
    "    if day_match is not None:\n",
    "        day_output[\"day\"] = day_match.group(0).upper()[0:1] + day_match.group(0).lower()[1:]\n",
    "    \n",
    "    today_match = re.search(\"(?i)today\", query)\n",
    "    if today_match is not None:\n",
    "        dt = datetime.now()\n",
    "        days_of_the_week = [\"Monday\", \"Tuesday\", \"Wednesday\", \"Thursday\", \"Friday\", \"Saturday\", \"Sunday\"]\n",
    "        day_output[\"day\"] = days_of_the_week[dt.weekday()]\n",
    "\n",
    "    return day_output\n",
    "\n",
    "find_day(\"Wednesdays\")"
   ]
  },
  {
   "cell_type": "markdown",
   "id": "c6b17350",
   "metadata": {},
   "source": [
    "## Making the ChatBot Class"
   ]
  },
  {
   "cell_type": "code",
   "execution_count": 10,
   "id": "e303d6da",
   "metadata": {},
   "outputs": [],
   "source": [
    "def write_profs(in_data):\n",
    "    if len(in_data) == 0: return \"\"\n",
    "    \n",
    "    full_names_col = in_data[\"first_name\"] + ' ' + in_data[\"last_name\"]\n",
    "    full_names = full_names_col.unique()\n",
    "    \n",
    "    output_str = full_names[0]\n",
    "\n",
    "    if len(full_names) == 1:\n",
    "        return output_str\n",
    "    if len(full_names) == 2:\n",
    "        output_str += \" and \" + full_names[1]\n",
    "        return output_str\n",
    "    else:\n",
    "        for i in range(1, len(full_names) - 1):\n",
    "            output_str += \", \" + full_names[i]\n",
    "        output_str += \", and \" + full_names[len(full_names) - 1]\n",
    "        return output_str"
   ]
  },
  {
   "cell_type": "code",
   "execution_count": 11,
   "id": "0b9e9554",
   "metadata": {
    "scrolled": true
   },
   "outputs": [],
   "source": [
    "def write_stuff(in_stuff):\n",
    "    if len(in_stuff) == 0: return \"\"\n",
    "\n",
    "    output_str = in_stuff[0]\n",
    "    \n",
    "    if len(in_stuff) == 1:\n",
    "        return output_str\n",
    "    if len(in_stuff) == 2:\n",
    "        output_str += \" and \" + in_stuff[1]\n",
    "        return output_str\n",
    "    else:\n",
    "        for i in range(1, len(in_stuff) - 1):\n",
    "            output_str += \", \" + in_stuff[i]\n",
    "        output_str += \", and \" + in_stuff[len(in_stuff) - 1]\n",
    "        return output_str"
   ]
  },
  {
   "cell_type": "code",
   "execution_count": 12,
   "id": "de04451d",
   "metadata": {},
   "outputs": [],
   "source": [
    "class ChatBot:\n",
    "    def __init__(self):\n",
    "        self.memory = {}\n",
    "    \n",
    "    def ask(self, query):\n",
    "        self_memory_copy = dict(self.memory)\n",
    "        self.memory = {}\n",
    "        self.memory = { k:v for d in (\n",
    "            find_section(query),\n",
    "            find_course(query),\n",
    "            find_prof(query),\n",
    "            find_room(query),\n",
    "            find_day(query)\n",
    "        ) for k,v in d.items() }\n",
    "\n",
    "        # Remembering information from old queries\n",
    "        for key in self_memory_copy.keys():\n",
    "            if self.memory[key] is None:\n",
    "                self.memory[key] = self_memory_copy[key]\n",
    "        \n",
    "        before_wipe_keys = self.memory.keys()\n",
    "        before_wipe_vals = self.memory.values()\n",
    "        vals_enumerate = enumerate(before_wipe_vals)\n",
    "        non_empty_indices = [ enum[0] for enum in vals_enumerate if enum[1] is not None ]\n",
    "\n",
    "        self.memory = { k: v for k, v in self.memory.items() if v is not None }\n",
    "        memory_keys = self.memory.keys()\n",
    "        memory_vals = self.memory.values()\n",
    "        \n",
    "        # Checking if data is sufficient\n",
    "        if \"professor\" in memory_keys:\n",
    "            pass\n",
    "        elif \"course\" in memory_keys:\n",
    "            pass\n",
    "        else:\n",
    "            sched_res_copy = data[data[\"last_name\"] == \"non-existent prof\"]  \n",
    "            custom_response = self.get_response(query, sched_res_copy)\n",
    "            print(custom_response)\n",
    "            return {\n",
    "                \"message\": custom_response if custom_response is not None else \"Please specify a professor or course.\",\n",
    "                \"result\": None\n",
    "            }\n",
    "\n",
    "        # Filtereing data based on query\n",
    "        sched_res = data\n",
    "        if \"professor\" in self.memory.keys():\n",
    "            sched_res_copy = data[data[\"last_name\"] == \"non-existent prof\"]            \n",
    "            \n",
    "            if \"last_name\" in self.memory[\"professor\"].keys():\n",
    "                for ln in self.memory[\"professor\"][\"last_name\"]:\n",
    "                    sched_res_copy = pd.concat([sched_res_copy, sched_res[sched_res[\"last_name\"].str.contains(\"(?i)\" + ln)]])\n",
    "            \n",
    "            if \"first_name\" in self.memory[\"professor\"].keys():\n",
    "                for fn in self.memory[\"professor\"][\"first_name\"]:\n",
    "                    sched_res_copy = pd.concat([sched_res_copy, sched_res[sched_res[\"first_name\"].str.contains(\"(?i)\" + fn)]])\n",
    "            sched_res = sched_res_copy.drop_duplicates()\n",
    "        \n",
    "        if \"course\" in self.memory.keys():\n",
    "            sched_res = sched_res[sched_res[\"Course\"].str.contains(self.memory[\"course\"].upper())]\n",
    "            \n",
    "        if \"section\" in self.memory.keys():\n",
    "            sched_res = sched_res[sched_res[\"Section\"].str.contains(self.memory[\"section\"].upper())]\n",
    "        \n",
    "        if \"room\" in self.memory.keys():\n",
    "            sched_res = sched_res[sched_res[\"Room\"].str.contains(self.memory[\"room\"].upper())]\n",
    "\n",
    "        if \"day\" in self.memory.keys():\n",
    "            sched_res = sched_res[sched_res[\"Day\"].str.contains(self.memory[\"day\"])]\n",
    "\n",
    "        # Clearing memory\n",
    "        self.memory = {}\n",
    "        \n",
    "        get_res_result = self.get_response(query, sched_res)\n",
    "        return {\n",
    "            \"message\": get_res_result,\n",
    "            \"result\": sched_res\n",
    "        }\n",
    "    \n",
    "    def message_probability(self, user_message, recognised_words, single_response=False, required_words=[]):\n",
    "        message_certainty = 0\n",
    "        has_required_words = True\n",
    "\n",
    "        # Counts how many words are present in each predefined message\n",
    "        for word in user_message:\n",
    "            if word in recognised_words:\n",
    "                message_certainty += 1\n",
    "\n",
    "        # Calculates the percent of recognised words in a user message\n",
    "        percentage = float(message_certainty) / float(len(recognised_words))\n",
    "\n",
    "        # Checks that the required words are in the string\n",
    "        for word in required_words:\n",
    "            if word not in user_message:\n",
    "                has_required_words = False\n",
    "                break\n",
    "\n",
    "        # Must either have the required words, or be a single response\n",
    "        if has_required_words or single_response:\n",
    "            return int(percentage * 100)\n",
    "        else:\n",
    "            return 0\n",
    "    \n",
    "    def check_all_messages(self, message, sched):\n",
    "        highest_prob_list = {}\n",
    "\n",
    "        def response(bot_response, list_of_words, single_response=False, required_words=[]):\n",
    "            nonlocal highest_prob_list\n",
    "            highest_prob_list[bot_response] = self.message_probability(message, list_of_words, single_response, required_words)\n",
    "\n",
    "        # Responses -------------------------------------------------------------------------------------------------------\n",
    "        response(write_profs(sched), ['who'], required_words=['who'])\n",
    "        response(write_stuff(sched['Day'].unique()), ['when','does'], required_words=['when'])\n",
    "        response(write_stuff(sched['Course'].unique()), ['what','course','does'], required_words=['what','course'])\n",
    "        response(write_stuff(sched['Time'].unique()), ['what','time','does'], required_words=['what','time'])\n",
    "        response(write_stuff(sched['Room'].unique()), ['where','does'], required_words=['where'])\n",
    "        response('Hello',['hi','how are you?','wassup','hello'],single_response=True)\n",
    "        # response('You\\'re welcome!', ['thank', 'thanks'], single_response=True)\n",
    "\n",
    "\n",
    "        best_match = max(highest_prob_list, key=highest_prob_list.get)\n",
    "        # print(highest_prob_list)\n",
    "        # print(f'Best match = {best_match} | Score: {highest_prob_list[best_match]}')\n",
    "        # return best_match\n",
    "        return None if highest_prob_list[best_match] < 1 else best_match\n",
    "\n",
    "    def get_response(self, user_input, sched):\n",
    "        split_message = re.split(r'\\s+|[,;?!.-]\\s*', user_input.lower())\n",
    "        response = self.check_all_messages(split_message, sched)\n",
    "        return response"
   ]
  },
  {
   "cell_type": "code",
   "execution_count": 13,
   "id": "95275112",
   "metadata": {
    "scrolled": true
   },
   "outputs": [
    {
     "name": "stdout",
     "output_type": "stream",
     "text": [
      "Write what you want to say to the chatbot: What is sir adina's schedule for monday?\n",
      "   first_name last_name   Room Section    Course        Day  \\\n",
      "0       Edgar     Adina   W413     A37   DS195-1     Monday   \n",
      "1       Edgar     Adina   W411     A37     DS168     Monday   \n",
      "2       Edgar     Adina   S407     E01   CE50P-2    Tuesday   \n",
      "3       Edgar     Adina   S407     E01   CE50P-2    Tuesday   \n",
      "4       Edgar     Adina  SW400     A40  CEM118-2    Tuesday   \n",
      "5       Edgar     Adina  SW400     A40  CEM118-2    Tuesday   \n",
      "6       Edgar     Adina  SW400     A40  CEM118-2    Tuesday   \n",
      "7       Edgar     Adina   W413     A37   DS195-1  Wednesday   \n",
      "8       Edgar     Adina   W411     A37     DS168  Wednesday   \n",
      "9       Edgar     Adina   S103     E01   CE50P-2   Thursday   \n",
      "10      Edgar     Adina   S103     E01   CE50P-2   Thursday   \n",
      "11      Edgar     Adina   S103     E01   CE50P-2   Thursday   \n",
      "12      Edgar     Adina    FLD     A37  DS200-1L   Thursday   \n",
      "13      Edgar     Adina    FLD     A37  DS200-1L   Thursday   \n",
      "14      Edgar     Adina    FLD     A37  DS200-1L   Thursday   \n",
      "15      Edgar     Adina   W413     A37   DS195-1     Friday   \n",
      "16      Edgar     Adina    QTR   D02-Q    CE255P     Friday   \n",
      "17      Edgar     Adina    QTR   D02-Q    CE255P     Friday   \n",
      "18      Edgar     Adina    QTR   D02-Q    CE255P     Friday   \n",
      "21      Edgar     Adina   NB 2     A37    DS168L     Friday   \n",
      "22      Edgar     Adina   NB 2     A37    DS168L     Friday   \n",
      "23      Edgar     Adina   NB 2     A37    DS168L     Friday   \n",
      "24      Edgar     Adina    FLD     D02    CE255P   Saturday   \n",
      "25      Edgar     Adina    FLD     D02    CE255P   Saturday   \n",
      "26      Edgar     Adina    FLD     D02    CE255P   Saturday   \n",
      "27      Edgar     Adina    FLD     D02    CE255P   Saturday   \n",
      "28      Edgar     Adina    FLD     D02    CE255P   Saturday   \n",
      "29      Edgar     Adina   S304     E01  CE175-4C   Saturday   \n",
      "30      Edgar     Adina   S304     E01  CE175-4C   Saturday   \n",
      "31      Edgar     Adina   S304     E01  CE175-4C   Saturday   \n",
      "\n",
      "                   Time  \n",
      "0   10:30 AM - 12:00 PM  \n",
      "1     4:30 PM - 6:00 PM  \n",
      "2    12:00 PM - 1:30 PM  \n",
      "3     1:30 PM - 3:00 PM  \n",
      "4     3:00 PM - 4:30 PM  \n",
      "5     4:30 PM - 6:00 PM  \n",
      "6     6:00 PM - 7:30 PM  \n",
      "7   10:30 AM - 12:00 PM  \n",
      "8     4:30 PM - 6:00 PM  \n",
      "9    12:00 PM - 1:30 PM  \n",
      "10    1:30 PM - 3:00 PM  \n",
      "11    3:00 PM - 4:30 PM  \n",
      "12    4:30 PM - 6:00 PM  \n",
      "13    6:00 PM - 7:30 PM  \n",
      "14    7:30 PM - 9:00 PM  \n",
      "15  10:30 AM - 12:00 PM  \n",
      "16   12:00 PM - 1:30 PM  \n",
      "17    1:30 PM - 3:00 PM  \n",
      "18    3:00 PM - 4:30 PM  \n",
      "21    4:30 PM - 6:00 PM  \n",
      "22    6:00 PM - 7:30 PM  \n",
      "23    7:30 PM - 9:00 PM  \n",
      "24   9:00 AM - 10:30 AM  \n",
      "25  10:30 AM - 12:00 PM  \n",
      "26   12:00 PM - 1:30 PM  \n",
      "27    1:30 PM - 3:00 PM  \n",
      "28    3:00 PM - 4:30 PM  \n",
      "29    4:30 PM - 6:00 PM  \n",
      "30    6:00 PM - 7:30 PM  \n",
      "31    7:30 PM - 9:00 PM  \n",
      "{'professor': {'last_name': ['adina']}, 'day': 'Monday'}\n",
      "  first_name last_name  Room Section   Course     Day                 Time\n",
      "0      Edgar     Adina  W413     A37  DS195-1  Monday  10:30 AM - 12:00 PM\n",
      "1      Edgar     Adina  W411     A37    DS168  Monday    4:30 PM - 6:00 PM\n",
      "  first_name last_name  Room Section   Course     Day                 Time\n",
      "0      Edgar     Adina  W413     A37  DS195-1  Monday  10:30 AM - 12:00 PM\n",
      "1      Edgar     Adina  W411     A37    DS168  Monday    4:30 PM - 6:00 PM\n"
     ]
    },
    {
     "data": {
      "text/html": [
       "<div>\n",
       "<style scoped>\n",
       "    .dataframe tbody tr th:only-of-type {\n",
       "        vertical-align: middle;\n",
       "    }\n",
       "\n",
       "    .dataframe tbody tr th {\n",
       "        vertical-align: top;\n",
       "    }\n",
       "\n",
       "    .dataframe thead th {\n",
       "        text-align: right;\n",
       "    }\n",
       "</style>\n",
       "<table border=\"1\" class=\"dataframe\">\n",
       "  <thead>\n",
       "    <tr style=\"text-align: right;\">\n",
       "      <th></th>\n",
       "      <th>first_name</th>\n",
       "      <th>last_name</th>\n",
       "      <th>Room</th>\n",
       "      <th>Section</th>\n",
       "      <th>Course</th>\n",
       "      <th>Day</th>\n",
       "      <th>Time</th>\n",
       "    </tr>\n",
       "  </thead>\n",
       "  <tbody>\n",
       "    <tr>\n",
       "      <th>0</th>\n",
       "      <td>Edgar</td>\n",
       "      <td>Adina</td>\n",
       "      <td>W413</td>\n",
       "      <td>A37</td>\n",
       "      <td>DS195-1</td>\n",
       "      <td>Monday</td>\n",
       "      <td>10:30 AM - 12:00 PM</td>\n",
       "    </tr>\n",
       "    <tr>\n",
       "      <th>1</th>\n",
       "      <td>Edgar</td>\n",
       "      <td>Adina</td>\n",
       "      <td>W411</td>\n",
       "      <td>A37</td>\n",
       "      <td>DS168</td>\n",
       "      <td>Monday</td>\n",
       "      <td>4:30 PM - 6:00 PM</td>\n",
       "    </tr>\n",
       "  </tbody>\n",
       "</table>\n",
       "</div>"
      ],
      "text/plain": [
       "  first_name last_name  Room Section   Course     Day                 Time\n",
       "0      Edgar     Adina  W413     A37  DS195-1  Monday  10:30 AM - 12:00 PM\n",
       "1      Edgar     Adina  W411     A37    DS168  Monday    4:30 PM - 6:00 PM"
      ]
     },
     "execution_count": 13,
     "metadata": {},
     "output_type": "execute_result"
    }
   ],
   "source": [
    "chatbot = ChatBot()\n",
    "\n",
    "sched = None\n",
    "while sched is None:\n",
    "    chatbot_query = input(\"Write what you want to say to the chatbot: \")\n",
    "    sched = chatbot.ask(chatbot_query)  \n",
    "# [ str(val) for val in sched.values ]\n",
    "# chatbot.get_response(chatbot_query)\n",
    "sched"
   ]
  },
  {
   "cell_type": "code",
   "execution_count": 14,
   "id": "cea1bf84",
   "metadata": {},
   "outputs": [
    {
     "name": "stdout",
     "output_type": "stream",
     "text": [
      "Schedule generated.\n"
     ]
    },
    {
     "data": {
      "image/png": "[encoded data removed]",
      "text/plain": [
       "<IPython.core.display.Image object>"
      ]
     },
     "execution_count": 14,
     "metadata": {},
     "output_type": "execute_result"
    }
   ],
   "source": [
    "from bs4 import BeautifulSoup\n",
    "\n",
    "days = [\"Sunday\", \"Monday\", \"Tuesday\", \"Wednesday\", \"Thursday\", \"Friday\", \"Saturday\"]\n",
    "days_id_part = [\"sun\", \"mon\", \"tue\", \"wed\", \"thu\", \"fri\", \"sat\"]\n",
    "\n",
    "times = ['7:30 AM - 9:00 AM', '9:00 AM - 10:30 AM', '10:30 AM - 12:00 PM',\n",
    "         '12:00 PM - 1:30 PM', '1:30 PM - 3:00 PM', '3:00 PM - 4:30 PM', \n",
    "         '4:30 PM - 6:00 PM', '6:00 PM - 7:30 PM', '7:30 PM - 9:00 PM']\n",
    "times_id_part = [\"7-30am\", \"9-00am\", \"10-30am\", \"12-00pm\", \"1-30pm\",\n",
    "                 \"3-00pm\", \"4-30pm\", \"6-00pm\", \"7-30pm\"]\n",
    "\n",
    "fp = open(\"template.html\")\n",
    "soup = BeautifulSoup(fp, \"html.parser\")\n",
    "fp.close()\n",
    "# print(soup)\n",
    "\n",
    "for i in range(len(sched)):\n",
    "    row_vals = sched.iloc[i,].values\n",
    "    ln = row_vals[1]\n",
    "    room = row_vals[2]\n",
    "    section = row_vals[3]\n",
    "    course = row_vals[4]\n",
    "    day = row_vals[5]\n",
    "    time = row_vals[6]\n",
    "\n",
    "    td_prefix = days_id_part[days.index(day)]\n",
    "    td_suffix = times_id_part[times.index(time)]\n",
    "    td_id = td_prefix + '-' + td_suffix\n",
    "    \n",
    "    if len(soup.find(id = td_id).contents) < 1:\n",
    "        schedule_html = '<p>' + course + '</p><p>' + ln + '</p><p>' + section + '</p><p>' + room + '</p>'\n",
    "        schedule_element = BeautifulSoup(schedule_html)\n",
    "        # soup.find(id = td_id).clear()\n",
    "        soup.find(id = td_id).append(schedule_element)\n",
    "    else:\n",
    "        soup.find(id = td_id)['style'] = \"background-color: orange; color: white;\"\n",
    "\n",
    "html_code_txt = open(\"template_filled.html\", \"w\")\n",
    "html_code_txt.write(str(soup))\n",
    "html_code_txt.close()\n",
    "\n",
    "!python make_img.py\n",
    "from IPython.display import Image\n",
    "Image(filename='sched_output.png') "
   ]
  }
 ],
 "metadata": {
  "kernelspec": {
   "display_name": "Python 3 (ipykernel)",
   "language": "python",
   "name": "python3"
  },
  "language_info": {
   "codemirror_mode": {
    "name": "ipython",
    "version": 3
   },
   "file_extension": ".py",
   "mimetype": "text/x-python",
   "name": "python",
   "nbconvert_exporter": "python",
   "pygments_lexer": "ipython3",
   "version": "3.11.0"
  }
 },
 "nbformat": 4,
 "nbformat_minor": 5
}
