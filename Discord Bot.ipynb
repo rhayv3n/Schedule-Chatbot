{
 "cells": [
  {
   "cell_type": "markdown",
   "id": "d7fc5cfa",
   "metadata": {},
   "source": [
    "# Making a Discord Bot"
   ]
  },
  {
   "cell_type": "markdown",
   "id": "e6b3866e",
   "metadata": {},
   "source": [
    "## Initializing Discord Bot Library"
   ]
  },
  {
   "cell_type": "code",
   "execution_count": 2,
   "id": "9fe09759",
   "metadata": {},
   "outputs": [],
   "source": [
    "import discord"
   ]
  },
  {
   "cell_type": "markdown",
   "id": "c599aa62",
   "metadata": {},
   "source": [
    "## Initializing Instance of Discord Bot"
   ]
  },
  {
   "cell_type": "code",
   "execution_count": 3,
   "id": "b33d5714",
   "metadata": {},
   "outputs": [],
   "source": [
    "intents = discord.Intents.default()\n",
    "intents.message_content = True\n",
    "\n",
    "client = discord.Client(intents=intents)"
   ]
  },
  {
   "cell_type": "markdown",
   "id": "f2f1f39b",
   "metadata": {},
   "source": [
    "## Creating Events"
   ]
  },
  {
   "cell_type": "markdown",
   "id": "4b8303a7",
   "metadata": {},
   "source": [
    "### on_ready"
   ]
  },
  {
   "cell_type": "code",
   "execution_count": null,
   "id": "7b963610",
   "metadata": {},
   "outputs": [],
   "source": [
    "@client.event\n",
    "async def on_ready():\n",
    "    print(f'We have logged in as {client.user}')"
   ]
  },
  {
   "cell_type": "markdown",
   "id": "bba1db9e",
   "metadata": {},
   "source": [
    "### on_message"
   ]
  },
  {
   "cell_type": "code",
   "execution_count": null,
   "id": "330afe35",
   "metadata": {},
   "outputs": [],
   "source": [
    "@client.event\n",
    "async def on_message(message):\n",
    "    \n",
    "    # Ignore messages from itself\n",
    "    if message.author == client.user:\n",
    "        return\n",
    "\n",
    "    if message.content.startswith('%'):\n",
    "        message_split = message.content.split()\n",
    "        command = message_split[0][1:].lower()\n",
    "        \n",
    "        # Command for asking help\n",
    "        if command == \"help\":\n",
    "            await message.channel.send(\n",
    "                'Ask me about schedules in the math department by writing `%ask` followed by your question.'\n",
    "            )\n",
    "        \n",
    "        # Command for closing bot\n",
    "        elif command == \"close\":\n",
    "            await client.close()\n",
    "        \n",
    "        # Command for making queries to the bot\n",
    "        elif command == \"ask\":\n",
    "            query = message.content[4:]\n",
    "            await process_query(message.channel, query)"
   ]
  },
  {
   "cell_type": "markdown",
   "id": "07a37481",
   "metadata": {},
   "source": [
    "#### Processing Questions"
   ]
  },
  {
   "cell_type": "code",
   "execution_count": null,
   "id": "200c0ecb",
   "metadata": {},
   "outputs": [],
   "source": [
    "import pandas as pd\n",
    "import re\n",
    "from bs4 import BeautifulSoup\n",
    "from IPython.display import Image\n",
    "from html2image import Html2Image"
   ]
  },
  {
   "cell_type": "code",
   "execution_count": null,
   "id": "b65f8502",
   "metadata": {},
   "outputs": [],
   "source": [
    "days = [\"Sunday\", \"Monday\", \"Tuesday\", \"Wednesday\", \"Thursday\", \"Friday\", \"Saturday\"]\n",
    "days_id_part = [\"sun\", \"mon\", \"tue\", \"wed\", \"thu\", \"fri\", \"sat\"]\n",
    "\n",
    "times = ['7:30 AM - 9:00 AM', '9:00 AM - 10:30 AM', '10:30 AM - 12:00 PM',\n",
    "         '12:00 PM - 1:30 PM', '1:30 PM - 3:00 PM', '3:00 PM - 4:30 PM', \n",
    "         '4:30 PM - 6:00 PM', '6:00 PM - 7:30 PM', '7:30 PM - 9:00 PM']\n",
    "times_id_part = [\"7-30am\", \"9-00am\", \"10-30am\", \"12-00pm\", \"1-30pm\",\n",
    "                 \"3-00pm\", \"4-30pm\", \"6-00pm\", \"7-30pm\"]"
   ]
  },
  {
   "cell_type": "code",
   "execution_count": null,
   "id": "3c9b8975",
   "metadata": {},
   "outputs": [],
   "source": [
    "async def process_query(channel, query):\n",
    "    await channel.send(\"Processing...\")\n",
    "    sched = chatbot.ask(query)\n",
    "    \n",
    "    if sched[\"message\"] is not None:\n",
    "        await channel.send(sched[\"message\"])\n",
    "\n",
    "    if sched[\"result\"] is not None:\n",
    "        if len(sched[\"result\"]) < 1: return\n",
    "            \n",
    "        fp = open(\"template.html\")\n",
    "        soup = BeautifulSoup(fp, features=\"html.parser\")\n",
    "        fp.close()\n",
    "        \n",
    "        for i in range(len(sched[\"result\"])):\n",
    "            row_vals = sched[\"result\"].iloc[i,].values\n",
    "            ln = row_vals[1]\n",
    "            room = row_vals[2]\n",
    "            section = row_vals[3]\n",
    "            course = row_vals[4]\n",
    "            day = row_vals[5]\n",
    "            time = row_vals[6]\n",
    "\n",
    "            td_prefix = days_id_part[days.index(day)]\n",
    "            td_suffix = times_id_part[times.index(time)]\n",
    "            td_id = td_prefix + '-' + td_suffix\n",
    "            \n",
    "            if len(soup.find(id = td_id).contents) > 0:\n",
    "                soup.find(id = td_id).append(BeautifulSoup(\"<br>\", features=\"html.parser\"))\n",
    "            \n",
    "            schedule_html = '<p>' + course + '</p><p>' + ln + '</p><p>' + section + '</p><p>' + room + '</p>'\n",
    "            schedule_element = BeautifulSoup(schedule_html, features=\"html.parser\")\n",
    "            soup.find(id = td_id).append(schedule_element)\n",
    "\n",
    "            html_code_txt = open(\"template_filled.html\", \"w\")\n",
    "            html_code_txt.write(str(soup))\n",
    "            html_code_txt.close()\n",
    "\n",
    "        hti = Html2Image()\n",
    "        hti.size = (1000, 1000)\n",
    "        \n",
    "        # Check if overlap\n",
    "        time_day_strs = sched[\"result\"][\"Time\"] + sched[\"result\"][\"Day\"]\n",
    "        if len(time_day_strs) != len(time_day_strs.unique()):\n",
    "            hti.size = (1000, 2250)\n",
    "\n",
    "        with open('template_filled.html', 'r') as f:\n",
    "            hti.screenshot(html_str=f.read(), save_as='sched_output.png')\n",
    "\n",
    "        Image(filename='sched_output.png') \n",
    "        with open('sched_output.png', 'rb') as fp:\n",
    "            if sched[\"message\"] is None:\n",
    "                await channel.send(\"Query processed! Here are the results:\")\n",
    "                    \n",
    "            await channel.send(file=discord.File(fp, 'sched_output.png'))"
   ]
  },
  {
   "cell_type": "markdown",
   "id": "8398b231",
   "metadata": {},
   "source": [
    "## Activating Bot"
   ]
  },
  {
   "cell_type": "code",
   "execution_count": null,
   "id": "89d20506",
   "metadata": {},
   "outputs": [],
   "source": [
    "client.run(SECRET_TOKEN)"
   ]
  }
 ],
 "metadata": {
  "kernelspec": {
   "display_name": "Python 3 (ipykernel)",
   "language": "python",
   "name": "python3"
  },
  "language_info": {
   "codemirror_mode": {
    "name": "ipython",
    "version": 3
   },
   "file_extension": ".py",
   "mimetype": "text/x-python",
   "name": "python",
   "nbconvert_exporter": "python",
   "pygments_lexer": "ipython3",
   "version": "3.11.0"
  }
 },
 "nbformat": 4,
 "nbformat_minor": 5
}
